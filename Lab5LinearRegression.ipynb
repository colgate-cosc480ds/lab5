{
 "cells": [
  {
   "cell_type": "markdown",
   "metadata": {},
   "source": [
    "# Lab 5 Linear Regression\n",
    "\n",
    "In this part of the lab we will use linear regression to fit some data about housing prices in Boston."
   ]
  },
  {
   "cell_type": "code",
   "execution_count": null,
   "metadata": {
    "collapsed": true
   },
   "outputs": [],
   "source": [
    "# notebook magic to display plots\n",
    "%matplotlib inline\n",
    "# notebook magic to auto reload imported modules when changes are made to them \n",
    "%load_ext autoreload\n",
    "%autoreload 2"
   ]
  },
  {
   "cell_type": "code",
   "execution_count": null,
   "metadata": {
    "collapsed": false
   },
   "outputs": [],
   "source": [
    "import matplotlib.pyplot as plt\n",
    "import pandas as pd\n",
    "import sklearn\n",
    "import sklearn.datasets\n",
    "boston = sklearn.datasets.load_boston()\n",
    "print boston.keys()"
   ]
  },
  {
   "cell_type": "markdown",
   "metadata": {
    "collapsed": true
   },
   "source": [
    "To read a description of the dataset, uncomment the following line:"
   ]
  },
  {
   "cell_type": "code",
   "execution_count": null,
   "metadata": {
    "collapsed": false
   },
   "outputs": [],
   "source": [
    "# print boston.DESCR"
   ]
  },
  {
   "cell_type": "code",
   "execution_count": null,
   "metadata": {
    "collapsed": false
   },
   "outputs": [],
   "source": [
    "# Print column names\n",
    "print boston.feature_names"
   ]
  },
  {
   "cell_type": "markdown",
   "metadata": {},
   "source": [
    "The data (predictor variables) is stored as multi-dimensional array.  Let's convert this into a python pandas data frame for easier manipulation."
   ]
  },
  {
   "cell_type": "code",
   "execution_count": null,
   "metadata": {
    "collapsed": false
   },
   "outputs": [],
   "source": [
    "bos = pd.DataFrame(boston.data,columns=boston.feature_names)\n",
    "bos.head()"
   ]
  },
  {
   "cell_type": "markdown",
   "metadata": {},
   "source": [
    "The target variable (the y value we wish to predict) is stored separately.  In this case, the target variable is `MEDV` (the Median value of owner-occupied homes in \\$1000’s)."
   ]
  },
  {
   "cell_type": "code",
   "execution_count": null,
   "metadata": {
    "collapsed": true
   },
   "outputs": [],
   "source": [
    "price = boston.target  "
   ]
  },
  {
   "cell_type": "markdown",
   "metadata": {},
   "source": [
    "## Exploratory Data Analysis and Summary Statistics\n",
    "Let's explore this data set. First we use `describe()` to get basic summary statistics for each of the columns.\n"
   ]
  },
  {
   "cell_type": "code",
   "execution_count": null,
   "metadata": {
    "collapsed": false
   },
   "outputs": [],
   "source": [
    "bos.describe()"
   ]
  },
  {
   "cell_type": "markdown",
   "metadata": {},
   "source": [
    "Next let's look at some scatter plots to see the relationship between predictor variables and the target variable.  With a pandas data frame, you can access a column of data simply by using dot notation, like so:"
   ]
  },
  {
   "cell_type": "code",
   "execution_count": null,
   "metadata": {
    "collapsed": false
   },
   "outputs": [],
   "source": [
    "crime = bos.CRIM\n",
    "plt.scatter(crime, price)\n",
    "plt.xlabel(\"Per capita crime rate by town (CRIM)\")\n",
    "plt.ylabel(\"Housing Price\")\n",
    "plt.title(\"Relationship between CRIM and Price\")"
   ]
  },
  {
   "cell_type": "markdown",
   "metadata": {},
   "source": [
    "**TODO:** Plot two more scatter plots: 'RM' vs. price and 'PTRATIO' vs. price.   Please write *descriptive* labels on the figures, such as above.  Note: this will require looking at the above documentation to see what 'RM' and 'PTRATIO' are!"
   ]
  },
  {
   "cell_type": "code",
   "execution_count": null,
   "metadata": {
    "collapsed": false
   },
   "outputs": [],
   "source": [
    "# todo: your code here"
   ]
  },
  {
   "cell_type": "markdown",
   "metadata": {
    "collapsed": true
   },
   "source": [
    "## Linear Regression\n",
    "\n",
    "Let's use sklearn to fit a linear regression model.  We'll start with a simple linear regression on 'RM'.  In other words, our model is: $price = \\beta_0 + \\beta_1 \\times RM$.\n",
    "\n",
    "We can select a subset of the columns of a data frame like this:"
   ]
  },
  {
   "cell_type": "code",
   "execution_count": null,
   "metadata": {
    "collapsed": true
   },
   "outputs": [],
   "source": [
    "X = bos[['RM']]"
   ]
  },
  {
   "cell_type": "markdown",
   "metadata": {},
   "source": [
    "Now let's fit a linear model using the sklearn module."
   ]
  },
  {
   "cell_type": "code",
   "execution_count": null,
   "metadata": {
    "collapsed": true
   },
   "outputs": [],
   "source": [
    "import sklearn\n",
    "from sklearn.linear_model import LinearRegression\n",
    "lm = LinearRegression()\n",
    "\n",
    "def getCoefficients(X, lm):\n",
    "    \"\"\"Given a dataset X and a fitted linear model, returns a nice data frame showing the coefficient.s\"\"\"\n",
    "    names = ['Intercept'] + list(X.columns)\n",
    "    coeffs = [lm.intercept_] + list(lm.coef_)\n",
    "    return pd.DataFrame({'names': names, 'estimatedCoefficients': coeffs})"
   ]
  },
  {
   "cell_type": "code",
   "execution_count": null,
   "metadata": {
    "collapsed": false
   },
   "outputs": [],
   "source": [
    "lm.fit(X, price)\n",
    "getCoefficients(X, lm)"
   ]
  },
  {
   "cell_type": "markdown",
   "metadata": {},
   "source": [
    "We can also get the $R^2$ goodness of fit:"
   ]
  },
  {
   "cell_type": "code",
   "execution_count": null,
   "metadata": {
    "collapsed": true
   },
   "outputs": [],
   "source": [
    "# execute this line to get some documentation on what score gives you\n",
    "lm.score?"
   ]
  },
  {
   "cell_type": "code",
   "execution_count": null,
   "metadata": {
    "collapsed": false
   },
   "outputs": [],
   "source": [
    "lm.score(X, price)"
   ]
  },
  {
   "cell_type": "markdown",
   "metadata": {},
   "source": [
    "## Finding a good model\n",
    "\n",
    "Your task is to find the best fitting model for this dataset.  You can accomplish this by writing some code that does this automatically (see p. 78 of the [ISL book](http://www-bcf.usc.edu/~gareth/ISL/)) or you can do it using a more manual approach\n",
    "\n",
    "You can receive full credit if you implement the \"Forward selection\" approach described in the ISL book (p. 78). For a stopping criteria, you can simply add up to 5 predictor variables and then stop.  But you are encouraged to get creative (*challenge problem!*).  Here are things you might try:\n",
    "\n",
    "- use exploratory data analysis to identify interesting patterns in the data that you can exploit\n",
    "- try some of the other approaches described on p.78\n",
    "- relax the additive assumption (p. 87 of ISL)\n",
    "- consider non-linear relationships (p. 90)\n",
    "- consider other data transformations (e.g., transform a numerical predictor into a categorial one then add the categorial predictor variable to your model, p. 82)\n",
    "\n",
    "How will we judge if the model is good?  If we add more predictor variables, our $R^2$ can only go up, so it's not the best measure.  Instead we will split our dataset into two components:"
   ]
  },
  {
   "cell_type": "code",
   "execution_count": null,
   "metadata": {
    "collapsed": false
   },
   "outputs": [],
   "source": [
    "bos, price = sklearn.utils.shuffle(bos, price, random_state=0)  # by shuffling bos and price together, we preserves the relationship\n",
    "test_size = 250\n",
    "trainBos = bos[:-test_size]\n",
    "trainPrice = price[:-test_size]\n",
    "testBos = bos[-test_size:]\n",
    "testPrice = price[-test_size:]"
   ]
  },
  {
   "cell_type": "markdown",
   "metadata": {},
   "source": [
    "Do *not* use the test data when building your model.  Instead, only use it at the end to evaluate your final model.  Here's an illustration of what that might look like:"
   ]
  },
  {
   "cell_type": "code",
   "execution_count": null,
   "metadata": {
    "collapsed": false
   },
   "outputs": [],
   "source": [
    "# train a linear regression model with predictor variables RM and PTRATIO\n",
    "columns = ['RM', 'PTRATIO']\n",
    "X = trainBos[columns]\n",
    "lm.fit(X, trainPrice)\n",
    "print lm.score(X, trainPrice)\n",
    "getCoefficients(X, lm)"
   ]
  },
  {
   "cell_type": "code",
   "execution_count": null,
   "metadata": {
    "collapsed": false
   },
   "outputs": [],
   "source": [
    "# example of evaluating the model on the test data\n",
    "Xtest = testBos[columns]\n",
    "lm.score(Xtest, testPrice)"
   ]
  },
  {
   "cell_type": "markdown",
   "metadata": {},
   "source": [
    "**TODO** Go forth and build your model!  Write your code in `lab5.py`.  In the space below, evaluate your model on the test data:"
   ]
  },
  {
   "cell_type": "code",
   "execution_count": null,
   "metadata": {
    "collapsed": true
   },
   "outputs": [],
   "source": [
    "# todo: evaluate your model on the test data"
   ]
  },
  {
   "cell_type": "markdown",
   "metadata": {},
   "source": [
    "**TODO** Write a brief description of how you fit your model."
   ]
  },
  {
   "cell_type": "markdown",
   "metadata": {},
   "source": [
    "**YOUR ANSWER HERE**:  *todo: replace this with your answer*"
   ]
  }
 ],
 "metadata": {
  "kernelspec": {
   "display_name": "Python 2",
   "language": "python",
   "name": "python2"
  },
  "language_info": {
   "codemirror_mode": {
    "name": "ipython",
    "version": 2
   },
   "file_extension": ".py",
   "mimetype": "text/x-python",
   "name": "python",
   "nbconvert_exporter": "python",
   "pygments_lexer": "ipython2",
   "version": "2.7.12"
  }
 },
 "nbformat": 4,
 "nbformat_minor": 2
}
